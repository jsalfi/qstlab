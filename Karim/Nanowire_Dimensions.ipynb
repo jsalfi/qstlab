{
 "cells": [
  {
   "cell_type": "markdown",
   "metadata": {},
   "source": [
    "# Nanowire Design "
   ]
  },
  {
   "cell_type": "markdown",
   "metadata": {},
   "source": [
    "Using BSC Theory, we can write the kinetic inductance in terms of nanowire dimensions, so that: \n",
    "    \n",
    "(1)   $L_K= \\frac {l}{w} \\frac{R_{sq}h}{2\\pi^2 \\Delta} \\frac{1}{\\tanh{\\frac{\\Delta}{2k_BT}}}$  , where $l$ and $w$ are the length and width respectively, $\\Delta$ is the energy gap and $R_{sq}$ is the sheet resistance.\n",
    "\n",
    "\n",
    "But $\\Delta$ depends on the coherence length $\\xi$ according to \n",
    "\n",
    "(2) $\\Delta = \\Delta_{00} e^{\\frac{-\\pi\\xi}{4}}$\n",
    "\n",
    "we can know more information about $\\xi$ from the bias current $I$ according to \n",
    "\n",
    "(3) $\\frac{I}{I_c}=1.897 e^{\\frac{-3\\pi\\xi}{8}}\\sqrt{\\xi}(\\frac{\\pi}{2}-\\frac{2}{3}\\xi)$\n",
    "\n",
    "Now we should estimate the overall effective area of the meander. According to the drawing, we have $d$ for spacing between turns,  $x$ is the length and width of the square area and $l$ is the total length. \n",
    "\n",
    "$x=(d+w)n$  (*)\n",
    "\n",
    "$l=(d+x)n$  (*)\n",
    "\n",
    "Solving those two equations we can get two solutions for x, by excluding the negative solution, we can get the overall effective area:\n",
    "\n",
    "(4) $l=\\frac{x(d+x)}{d+w}$\n",
    "\n",
    "Ref: https://iopscience.iop.org/article/10.1088/0957-4484/21/44/445202/meta"
   ]
  },
  {
   "cell_type": "code",
   "execution_count": 3,
   "metadata": {},
   "outputs": [
    {
     "name": "stdout",
     "output_type": "stream",
     "text": [
      "\n",
      "Enter bias current value in uA: 50\n",
      "Enter kinetic inductance value in pH: 50\n",
      "Enter width value in nm: 50\n",
      "Enter thickness value in nm: 50\n",
      "\n",
      "length should be 0.30933558573192593 um in order to get Kinetic inductance of 0.05 nh with cross sectional area of 50 nm x 50 nm\n",
      "number of turns is 2\n",
      "\n",
      "So the effective area should be [0.17113421] um x [0.17113421] um\n"
     ]
    },
    {
     "data": {
      "image/png": "[encoded data removed]",
      "text/plain": [
       "<Figure size 432x288 with 1 Axes>"
      ]
     },
     "metadata": {
      "needs_background": "light"
     },
     "output_type": "display_data"
    }
   ],
   "source": [
    "import numpy as np\n",
    "import matplotlib.pyplot as plt\n",
    "from scipy.optimize import fsolve\n",
    "import math\n",
    "\n",
    "\n",
    "#Problem Parameters\n",
    "m = 9.1093e-31  ## electron mass\n",
    "e = 1.60217e-17 ## electron charge\n",
    "l=100e-6 ## length of the nanowire                 \n",
    "w=100e-9 ## width of the nanowire                   \n",
    "t=10e-9 ## Thickness of the nanowire  \n",
    "# Jc=6e10 ## Critical current density from literature\n",
    "# Ic=w*t*Jc*1e6 ## Critical current \n",
    "# print (\"critical current is\", Ic, \"uA\")\n",
    "Tc=11 ## Critical Temperature From literature\n",
    "T=2e-3 ##operating temperature\n",
    "Kb=1.38e-23 ##Boltzman Constant\n",
    "del00= 1.76*Kb*Tc ##Energy Gap at zero temp and zero bias current\n",
    "ro=200e-8 ## resistivity of NbTiN from literature   ##not accurate\n",
    "h=6.626e-34 ##Plank's Constant\n",
    "frac=0\n",
    "\n",
    "def eq3(xi):\n",
    "    return [frac - (1.897*(math.exp(-3*np.pi*xi[0]/8))*math.sqrt(xi[0])*(np.pi/2-2*xi[0]/3))] ##equation3\n",
    "\n",
    "def eq4(x):\n",
    "    return [(l-(x[0]*(d+x[0])/(d+w)))] ##equation4\n",
    "\n",
    "\n",
    "for T in range (0,20,10): #running the code at two different temperatures T=0K and 10K\n",
    "    \n",
    "    T=T+0.001\n",
    "    \n",
    "    arr1=[] ##for storing I/Ic values\n",
    "    arr2=[] ##for storing Lk values\n",
    "    arr3=[] ##for storing Lk/Lk(0) values\n",
    "\n",
    "\n",
    "    #sweeping I\n",
    "    for frac in range (0,10,1):\n",
    "        frac=frac/10\n",
    "        \n",
    "        #Solving for \\xi        \n",
    "        xi = fsolve(eq3,[0])\n",
    "\n",
    "        #Solving for delta\n",
    "        delta=del00*math.exp(-np.pi*xi/4) ##equation2\n",
    "\n",
    "        #Solving for Lk\n",
    "        Lk=(l/(w*t))*(ro*h)/(2*(np.pi**2)*delta*math.tanh(delta/(2*Kb*T))) ##equation1    \n",
    "\n",
    "        arr1.append(frac)\n",
    "        arr2.append(Lk)\n",
    "    \n",
    "    for number in arr2:\n",
    "        arr3.append(number / arr2[0])\n",
    "\n",
    "    #Do the plot        \n",
    "    plt.plot(arr1,arr3)    \n",
    "\n",
    "plt.xlabel(\"I/Ic\")\n",
    "plt.ylabel(\"Lk(I)/Lk(0)\")\n",
    "#plt.axis([0.2, 0.45, 1, 1.05]) ##Scaling\n",
    "plt.text(0.65, 1.12, \"T=10K\")\n",
    "plt.text(0.78, 1.07, \"T=0K\")\n",
    "\n",
    "\n",
    "#Caculating the Dimensions that give a certain kinetic inductance at a certain current bias\n",
    "I=int(input(\"\\nEnter bias current value in uA: \") ) ##Operating Bias Current\n",
    "\n",
    "Lk=int(input(\"Enter kinetic inductance value in pH: \") )## Desired Kinetic Inductance\n",
    "Lk=Lk*1e-12 \n",
    "\n",
    "w= int(input(\"Enter width value in nm: \") ) ## Desired Width\n",
    "w=w*1e-9\n",
    "\n",
    "\n",
    "t= int(input(\"Enter thickness value in nm: \") ) ##Desired Thickness\n",
    "t=t*1e-9\n",
    "\n",
    "Jc=6e10 ## Critical current density from literature\n",
    "Ic=w*t*Jc*1e6 ## Critical current \n",
    "\n",
    "xi = fsolve(eq3,[0]) ##eq3\n",
    "delta=del00*math.exp(-np.pi*xi/4)##eq2\n",
    "l = Lk/((1/(w*t))*(ro*h)/(2*(np.pi**2)*delta*math.tanh(delta/(2*Kb*T))))#eq3\n",
    "\n",
    "print (\"\\nlength should be\",l*1e6, \"um in order to get Kinetic inductance of\", Lk*1e9,\n",
    "       \"nh with cross sectional area of\", int(w*1e9) ,\"nm x\",int (t*1e9),\"nm\")\n",
    "\n",
    "#calculating the effective area\n",
    "#assuming square\n",
    "d=2*w #assuming spacing d is double the width\n",
    "x = fsolve(eq4,[1])\n",
    "n=math.ceil(x/(d+w))\n",
    "print(\"number of turns is\", n)\n",
    "print (\"\\nSo the effective area should be\",x*1e6, \"um x\",x*1e6, \"um\")       \n",
    "    \n"
   ]
  },
  {
   "cell_type": "code",
   "execution_count": null,
   "metadata": {},
   "outputs": [],
   "source": []
  },
  {
   "cell_type": "code",
   "execution_count": null,
   "metadata": {
    "collapsed": true
   },
   "outputs": [],
   "source": []
  }
 ],
 "metadata": {
  "kernelspec": {
   "display_name": "Python 3",
   "language": "python",
   "name": "python3"
  },
  "language_info": {
   "codemirror_mode": {
    "name": "ipython",
    "version": 3
   },
   "file_extension": ".py",
   "mimetype": "text/x-python",
   "name": "python",
   "nbconvert_exporter": "python",
   "pygments_lexer": "ipython3",
   "version": "3.7.4"
  }
 },
 "nbformat": 4,
 "nbformat_minor": 2
}
