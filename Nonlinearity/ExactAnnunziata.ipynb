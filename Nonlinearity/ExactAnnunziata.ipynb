{
 "cells": [
  {
   "cell_type": "markdown",
   "metadata": {},
   "source": [
    "# Reproducing the area of Nb nanowire in Annunziata "
   ]
  },
  {
   "cell_type": "code",
   "execution_count": 47,
   "metadata": {},
   "outputs": [
    {
     "name": "stdout",
     "output_type": "stream",
     "text": [
      "Number of turns is 40\n",
      "\n",
      "So the effective area for the Nb nanowire should be [12.14785696] um x [12.14785696] um\n"
     ]
    },
    {
     "data": {
      "image/png": "[encoded data removed]",
      "text/plain": [
       "<Figure size 432x288 with 1 Axes>"
      ]
     },
     "metadata": {
      "needs_background": "light"
     },
     "output_type": "display_data"
    }
   ],
   "source": [
    "import numpy as np\n",
    "import matplotlib.pyplot as plt\n",
    "from scipy.optimize import fsolve\n",
    "import math\n",
    "\n",
    "#Nb \n",
    "#Problem Parameters\n",
    "m = 9.1093e-31  ## electron mass\n",
    "e = 1.60217e-17 ## electron charge\n",
    "l=500e-6 ## length of the nanowire                 \n",
    "w=100e-9 ## width of the nanowire                   \n",
    "t=15e-9 ## Thickness of the nanowire  \n",
    "Tc=9 ## Critical Temperature From literature\n",
    "Kb=1.38e-23 ##Boltzman Constant\n",
    "del00= 1.76*Kb*Tc ##Energy Gap at zero temp and zero bias current\n",
    "h=6.626e-34 ##Plank's Constant\n",
    "Rsq= 20 ##sheet resistivity\n",
    "frac=0;\n",
    "\n",
    "def eq3(xi):\n",
    "    return [(frac) - (1.897*(math.exp(-3*np.pi*xi[0]/8))*math.sqrt(xi[0])*(np.pi/2-2*xi[0]/3))] ##equation3\n",
    "\n",
    "def eq4(x):\n",
    "    return [(l-(x[0]*(d+x[0])/(d+w)))] ##equation4\n",
    "\n",
    "for T in range (2,6,2): #running the code at two different temperatures T=0K and 10K\n",
    "    \n",
    "    \n",
    "    arr1=[] ##for storing I/Ic values\n",
    "    arr2=[] ##for storing Lk values\n",
    "    arr3=[] ##for storing Lk/Lk(0) values\n",
    "    \n",
    "    \n",
    "    if (T== 2): \n",
    "        T=T+0.6\n",
    "    else: \n",
    "        T=T+0.2\n",
    "                \n",
    "    #sweeping I\n",
    "    for frac in range (0,10,1):\n",
    "        frac =frac/10\n",
    "\n",
    "        #Solving for \\xi        \n",
    "        xi = fsolve(eq3,[0])\n",
    "\n",
    "        #Solving for delta\n",
    "        delta=del00*math.exp(-np.pi*xi/4) ##equation2\n",
    "\n",
    "        #Solving for Lk\n",
    "        Lk=(l/(w))*(Rsq*h)/(2*(np.pi**2)*delta*math.tanh(delta/(2*Kb*T))) ##equation1    \n",
    "\n",
    "        arr1.append(frac)\n",
    "        arr2.append(Lk)\n",
    "\n",
    "    for number in arr2:\n",
    "        arr3.append(number / arr2[0])\n",
    "\n",
    "    #Do the plot        \n",
    "    plt.plot(arr1,arr3)    \n",
    "    \n",
    "plt.xlabel(\"I/Ic\")\n",
    "plt.ylabel(\"Lk(I)/Lk(0)\")\n",
    "#plt.axis([0.2, 0.45, 1, 1.05]) ##Scaling\n",
    "plt.text(0.65, 1.12, \"T=2.6K\")\n",
    "plt.text(0.78, 1.07, \"T=4.2K\")\n",
    "\n",
    "\n",
    "#calculating the effective area\n",
    "#assuming square\n",
    "d=2*w #assuming spacing d is double the width\n",
    "x = fsolve(eq4,[1])\n",
    "n=int(x/(d+w))\n",
    "print(\"Number of turns is\", n)\n",
    "print (\"\\nSo the effective area for the Nb nanowire should be\",x*1e6, \"um x\",x*1e6, \"um\")       \n"
   ]
  },
  {
   "cell_type": "code",
   "execution_count": null,
   "metadata": {},
   "outputs": [],
   "source": []
  }
 ],
 "metadata": {
  "kernelspec": {
   "display_name": "Python 3",
   "language": "python",
   "name": "python3"
  },
  "language_info": {
   "codemirror_mode": {
    "name": "ipython",
    "version": 3
   },
   "file_extension": ".py",
   "mimetype": "text/x-python",
   "name": "python",
   "nbconvert_exporter": "python",
   "pygments_lexer": "ipython3",
   "version": "3.7.4"
  }
 },
 "nbformat": 4,
 "nbformat_minor": 2
}
