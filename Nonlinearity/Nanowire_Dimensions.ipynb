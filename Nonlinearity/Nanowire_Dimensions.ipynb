{
 "cells": [
  {
   "cell_type": "markdown",
   "metadata": {},
   "source": [
    "# Nanowire Design "
   ]
  },
  {
   "cell_type": "markdown",
   "metadata": {},
   "source": [
    "Using BSC Theory, we can write the kinetic inductance in terms of nanowire dimensions, so that: \n",
    "    \n",
    "(1)   $L_K= \\frac {l}{w} \\frac{R_{sq}h}{2\\pi^2 \\Delta} \\frac{1}{\\tanh{\\frac{\\Delta}{2k_BT}}}$  , where $l$ and $w$ are the length and width respectively, $\\Delta$ is the energy gap and $R_{sq}$ is the sheet resistance.\n",
    "\n",
    "\n",
    "But $\\Delta$ depends on the coherence length $\\xi$ according to \n",
    "\n",
    "(2) $\\Delta = \\Delta_{00} e^{\\frac{-\\pi\\xi}{4}}$\n",
    "\n",
    "we can know more information about $\\xi$ from the bias current $I$ according to \n",
    "\n",
    "(3) $\\frac{I}{I_c}=1.897 e^{\\frac{-3\\pi\\xi}{8}}\\sqrt{\\xi}(\\frac{\\pi}{2}-\\frac{2}{3}\\xi)$\n",
    "\n",
    "\n",
    "\n",
    "\n",
    "Ref: https://iopscience.iop.org/article/10.1088/0957-4484/21/44/445202/meta"
   ]
  },
  {
   "cell_type": "code",
   "execution_count": 31,
   "metadata": {},
   "outputs": [
    {
     "name": "stdout",
     "output_type": "stream",
     "text": [
      "T is equal to 0.001\n",
      "T is equal to 10.001\n"
     ]
    },
    {
     "data": {
      "text/plain": [
       "Text(0.78, 1.07, 'T=0K')"
      ]
     },
     "execution_count": 31,
     "metadata": {},
     "output_type": "execute_result"
    },
    {
     "data": {
      "image/png": "[encoded data removed]",
      "text/plain": [
       "<Figure size 432x288 with 1 Axes>"
      ]
     },
     "metadata": {
      "needs_background": "light"
     },
     "output_type": "display_data"
    }
   ],
   "source": [
    "import numpy as np\n",
    "import matplotlib.pyplot as plt\n",
    "from scipy.optimize import fsolve\n",
    "import math\n",
    "\n",
    "\n",
    "#Problem Parameters\n",
    "m = 9.1093e-31  ## electron mass\n",
    "e = 1.60217e-17 ## electron charge\n",
    "#I=5 ##Bias Current\n",
    "Ic=11 ## Critical current                         \n",
    "l=10e-6 ## length of the nanowire                 \n",
    "w=100e-9 ## width of the nanowire                   \n",
    "d=10e-9 ## Thickness of the nanowire  \n",
    "Tc=11 ## Critical Temperature From literature\n",
    "T=2e-3 ##operating temperature\n",
    "k=1.38e-23 ##Boltzman Constant\n",
    "del00= 1.76*k*Tc ##Energy Gap at zero temp and zero bias current\n",
    "ro=93e-8 ## resistivity of NbTiN from literature\n",
    "h=6.626e-34 ##Plank's Constant\n",
    "\n",
    "\n",
    "for T in range (0,20,10): #running the code at two different temperatures T=0K and 10K\n",
    "    \n",
    "    T=T+0.001\n",
    "    print(\"T is equal to\", T) #troubleshooting\n",
    "    \n",
    "    \n",
    "    #Different values of l\n",
    "    #for l in range (100,500,10):\n",
    "    \n",
    "    #l=l*1e-6\n",
    "    #print(\"length is equal to\",l) #troubleshooting\n",
    "    \n",
    "    \n",
    "    arr1=[] ##for storing I/Ic values\n",
    "    arr2=[] ##for storing Lk values\n",
    "    arr3=[] ##for storing Lk/Lk(0) values\n",
    "\n",
    "\n",
    "    #sweeping I\n",
    "    for I in range (11):\n",
    "\n",
    "        #Solving for \\xi\n",
    "        def func(xi):\n",
    "            return [(I/Ic) - (1.897*(math.exp(-3*np.pi*xi[0]/8))*math.sqrt(xi[0])*(np.pi/2-2*xi[0]/3))] ##equation3\n",
    "        xi = fsolve(func, [0])\n",
    "\n",
    "\n",
    "        #Solving for delta\n",
    "        delta=del00*math.exp(-np.pi*xi/4) ##equation2\n",
    "\n",
    "        #Solving for Lk\n",
    "        Lk=(l/(w*d))*(ro*h)/(2*(np.pi**2)*delta*math.tanh(delta/(2*k*T))) ##equation1    \n",
    "\n",
    "        arr1.append(I/Ic)\n",
    "        arr2.append(Lk)\n",
    "\n",
    "    for number in arr2:\n",
    "        arr3.append(number / arr2[0])\n",
    "\n",
    "    #Do the plot        \n",
    "    plt.plot(arr1,arr3)    \n",
    "    \n",
    "       \n",
    "plt.xlabel(\"I/Ic\")\n",
    "plt.ylabel(\"Lk(I)/Lk(0)\")\n",
    "#plt.axis([0.2, 0.45, 1, 1.05]) ##Scaling\n",
    "plt.text(0.65, 1.12, \"T=10K\")\n",
    "plt.text(0.78, 1.07, \"T=0K\")"
   ]
  },
  {
   "cell_type": "code",
   "execution_count": null,
   "metadata": {},
   "outputs": [],
   "source": []
  },
  {
   "cell_type": "code",
   "execution_count": null,
   "metadata": {},
   "outputs": [],
   "source": []
  }
 ],
 "metadata": {
  "kernelspec": {
   "display_name": "Python 3",
   "language": "python",
   "name": "python3"
  },
  "language_info": {
   "codemirror_mode": {
    "name": "ipython",
    "version": 3
   },
   "file_extension": ".py",
   "mimetype": "text/x-python",
   "name": "python",
   "nbconvert_exporter": "python",
   "pygments_lexer": "ipython3",
   "version": "3.7.4"
  }
 },
 "nbformat": 4,
 "nbformat_minor": 2
}
