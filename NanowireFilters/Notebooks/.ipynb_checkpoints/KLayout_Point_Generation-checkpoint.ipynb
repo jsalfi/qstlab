{
 "cells": [
  {
   "cell_type": "markdown",
   "metadata": {},
   "source": [
    "# KLayout Point Generation\n",
    "\n",
    "KLayout requires a `list` of points to be generated in the `produce_impl` method of whatever macro or custom PCell you create.\n",
    "All the heavy lifting is done here."
   ]
  },
  {
   "cell_type": "markdown",
   "metadata": {},
   "source": [
    "## Main Parameters\n",
    "\n",
    "<img src=\"sketch.jpg\"  style=\"width:300px;\"/>\n",
    "\n",
    "| Parameter                     |                  Restrictions                  |\n",
    "|-------------------------------|:----------------------------------------------:|\n",
    "| Feedline direction & distance | absval>0                                       |\n",
    "| N_lines/Width                 | Supply Either: n_lines>=1 / width>=path width |\n",
    "| Line length                   | >0                                             |\n",
    "| Line spacing                  | > 2*path_width                                 |\n",
    "| Meander radius                | >= line_spacing/2                              |\n",
    "| Path width                    | >=0                                            |"
   ]
  },
  {
   "cell_type": "code",
   "execution_count": null,
   "metadata": {},
   "outputs": [],
   "source": []
  }
 ],
 "metadata": {
  "kernelspec": {
   "display_name": "Python 3",
   "language": "python",
   "name": "python3"
  },
  "language_info": {
   "codemirror_mode": {
    "name": "ipython",
    "version": 3
   },
   "file_extension": ".py",
   "mimetype": "text/x-python",
   "name": "python",
   "nbconvert_exporter": "python",
   "pygments_lexer": "ipython3",
   "version": "3.8.1"
  }
 },
 "nbformat": 4,
 "nbformat_minor": 4
}
