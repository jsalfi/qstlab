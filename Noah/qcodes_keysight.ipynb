{
 "cells": [
  {
   "cell_type": "code",
   "execution_count": 1,
   "id": "4cac5a16-489f-444c-b845-fb9abf4fac27",
   "metadata": {},
   "outputs": [
    {
     "ename": "ModuleNotFoundError",
     "evalue": "No module named 'qcodes_contrib_drivers'",
     "output_type": "error",
     "traceback": [
      "\u001b[1;31m---------------------------------------------------------------------------\u001b[0m",
      "\u001b[1;31mModuleNotFoundError\u001b[0m                       Traceback (most recent call last)",
      "\u001b[1;32m<ipython-input-1-6119177a05e2>\u001b[0m in \u001b[0;36m<module>\u001b[1;34m\u001b[0m\n\u001b[0;32m     12\u001b[0m \u001b[1;33m\u001b[0m\u001b[0m\n\u001b[0;32m     13\u001b[0m \u001b[1;32mimport\u001b[0m \u001b[0mqcodes\u001b[0m\u001b[1;33m\u001b[0m\u001b[1;33m\u001b[0m\u001b[0m\n\u001b[1;32m---> 14\u001b[1;33m \u001b[1;32mfrom\u001b[0m \u001b[0mqcodes_contrib_drivers\u001b[0m\u001b[1;33m.\u001b[0m\u001b[0mdrivers\u001b[0m\u001b[1;33m.\u001b[0m\u001b[0mKeysight\u001b[0m\u001b[1;33m.\u001b[0m\u001b[0mM3202A\u001b[0m \u001b[1;32mimport\u001b[0m \u001b[0mM3202A\u001b[0m\u001b[1;33m\u001b[0m\u001b[1;33m\u001b[0m\u001b[0m\n\u001b[0m\u001b[0;32m     15\u001b[0m \u001b[1;33m\u001b[0m\u001b[0m\n\u001b[0;32m     16\u001b[0m \u001b[1;32mimport\u001b[0m \u001b[0mqcodes\u001b[0m\u001b[1;33m.\u001b[0m\u001b[0mlogger\u001b[0m \u001b[1;32mas\u001b[0m \u001b[0mlogger\u001b[0m\u001b[1;33m\u001b[0m\u001b[1;33m\u001b[0m\u001b[0m\n",
      "\u001b[1;31mModuleNotFoundError\u001b[0m: No module named 'qcodes_contrib_drivers'"
     ]
    }
   ],
   "source": [
    "import logging\n",
    "\n",
    "import numpy as np\n",
    "import matplotlib.pyplot as plt\n",
    "\n",
    "try:\n",
    "    import keysightSD1\n",
    "except:\n",
    "    import sys\n",
    "    sys.path.append(r\"C:\\Program Files (x86)\\Keysight\\SD1\\Libraries\\Python\")\n",
    "    import keysightSD1\n",
    "    \n",
    "import qcodes\n",
    "from qcodes_contrib_drivers.drivers.Keysight.M3202A import M3202A\n",
    "\n",
    "import qcodes.logger as logger\n",
    "from qcodes.logger import start_all_logging\n",
    "\n",
    "start_all_logging()\n",
    "# logger.get_file_handler().setLevel(logging.DEBUG)"
   ]
  },
  {
   "cell_type": "code",
   "execution_count": null,
   "id": "7b93e44f-f7d2-499f-9ae8-3c966b190d4d",
   "metadata": {},
   "outputs": [],
   "source": [
    "# try to close station from previous run.\n",
    "\n",
    "try:\n",
    "    station.close_all_registered_instruments()\n",
    "except: pass"
   ]
  },
  {
   "cell_type": "code",
   "execution_count": null,
   "id": "e227d89d-e99a-4067-9b70-6224e1181d12",
   "metadata": {},
   "outputs": [],
   "source": [
    "# setup station\n",
    "awg = M3202A(\"AWG\", chassis = 0, slot = 4)\n",
    "\n",
    "station = qcodes.Station()\n",
    "station.add_component(awg)"
   ]
  },
  {
   "cell_type": "code",
   "execution_count": null,
   "id": "1c396b52-3f58-4946-b7f9-9d26c570bc26",
   "metadata": {},
   "outputs": [],
   "source": [
    "# setup output channels\n",
    "pxi = keysightSD1.SD_TriggerExternalSources.TRIGGER_PXI1\n",
    "trigger_mode = keysightSD1.SD_TriggerBehaviors.TRIGGER_FALL\n",
    "\n",
    "for ch in range(1,5):\n",
    "    awg.set_channel_offset(0.5, ch)\n",
    "    awg.set_channel_amplitude(0.5, ch)\n",
    "\n",
    "    awg.set_channel_wave_shape(keysightSD1.SD_Waveshapes.AOU_AWG, ch)\n",
    "    awg.awg_queue_config(ch, keysightSD1.SD_QueueMode.CYCLIC)\n",
    "    awg.awg_config_external_trigger(ch, pxi, trigger_mode)\n"
   ]
  },
  {
   "cell_type": "code",
   "execution_count": null,
   "id": "a0ce29fa-4730-4181-9603-3e7b4a80ede3",
   "metadata": {},
   "outputs": [],
   "source": [
    "# setup waveforms\n",
    "def get_divider(prescaler):\n",
    "    if prescaler == 0:\n",
    "        divider = 1\n",
    "    elif prescaler == 1:\n",
    "        divider = 5\n",
    "    else:\n",
    "        divider = prescaler * 10\n",
    "        \n",
    "    return divider\n",
    "\n",
    "def create_sine(period, repetition, prescaler):\n",
    "    divider = get_divider(prescaler)\n",
    "    n_pts = repetition * period // divider\n",
    "    phi = np.linspace(0, np.pi*2*repetition, n_pts)\n",
    "    w = np.sin(phi)\n",
    "    \n",
    "    if len(w) < 2000:\n",
    "        raise Exception(\"not enough data\")\n",
    "        \n",
    "    return w\n",
    "\n",
    "prescaler_1GSa = 0\n",
    "sine = 0.6 * create_sine(500, 4, prescaler_1GSa)\n",
    "sine_awg = awg.upload_waveform(sine)\n",
    "\n",
    "delay = 0\n",
    "ext_trigger = keysightSD1.SD_TriggerModes.EXTTRIG\n",
    "auto_trigger = keysightSD1.SD_TriggerModes.AUTOTRIG\n",
    "cycles = 1\n",
    "awg.awg_queue_waveform(1, sine_awg, ext_trigger, delay, cycles, prescaler_1GSa)\n",
    "\n",
    "awg.awg_start(0)"
   ]
  },
  {
   "cell_type": "code",
   "execution_count": null,
   "id": "e558b2fe-7051-4cf3-ab89-70a132b912f2",
   "metadata": {},
   "outputs": [],
   "source": [
    "# trigger AWG\n",
    "\n",
    "awg.set_pxi_trigger(0, pxi1) # trigger ON\n",
    "awg.set_pxi_trigger(1, pxi1) # trigger OFF"
   ]
  }
 ],
 "metadata": {
  "kernelspec": {
   "display_name": "Python 3",
   "language": "python",
   "name": "python3"
  },
  "language_info": {
   "codemirror_mode": {
    "name": "ipython",
    "version": 3
   },
   "file_extension": ".py",
   "mimetype": "text/x-python",
   "name": "python",
   "nbconvert_exporter": "python",
   "pygments_lexer": "ipython3",
   "version": "3.8.10"
  }
 },
 "nbformat": 4,
 "nbformat_minor": 5
}
