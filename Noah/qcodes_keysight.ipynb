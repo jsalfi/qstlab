{
 "cells": [
  {
   "cell_type": "code",
   "execution_count": 4,
   "id": "4cac5a16-489f-444c-b845-fb9abf4fac27",
   "metadata": {},
   "outputs": [
    {
     "name": "stdout",
     "output_type": "stream",
     "text": [
      "Activating auto-logging. Current session state plus future input saved.\n",
      "Filename       : C:\\Users\\noah\\.qcodes\\logs\\command_history.log\n",
      "Mode           : append\n",
      "Output logging : True\n",
      "Raw input log  : False\n",
      "Timestamping   : True\n",
      "State          : active\n"
     ]
    },
    {
     "name": "stderr",
     "output_type": "stream",
     "text": [
      "2021-05-21 13:43:24,847 ¦ root ¦ WARNING ¦ SD_AWG_Async ¦ __del__ ¦ 152 ¦ WaveformReference was not released (AWG:0). Automatic release in destructor.\n",
      "2021-05-21 13:43:24,898 ¦ qcodes.instrument.base ¦ WARNING ¦ base ¦ snapshot_base ¦ 215 ¦ [AWG(M3202A)] Snapshot: Could not update parameter: status\n"
     ]
    },
    {
     "name": "stdout",
     "output_type": "stream",
     "text": [
      "Qcodes Logfile : C:\\Users\\noah\\.qcodes\\logs\\210521-9748-qcodes.log\n"
     ]
    }
   ],
   "source": [
    "import logging\n",
    "\n",
    "import numpy as np\n",
    "import matplotlib.pyplot as plt\n",
    "\n",
    "try:\n",
    "    import keysightSD1\n",
    "except:\n",
    "    import sys\n",
    "    sys.path.append(r\"C:\\Program Files (x86)\\Keysight\\SD1\\Libraries\\Python\")\n",
    "    import keysightSD1\n",
    "    \n",
    "import qcodes\n",
    "from qcodes_contrib_drivers.drivers.Keysight.M3202A import M3202A\n",
    "\n",
    "import qcodes.logger as logger\n",
    "from qcodes.logger import start_all_logging\n",
    "\n",
    "start_all_logging()\n",
    "# logger.get_file_handler().setLevel(logging.DEBUG)\n",
    "\n",
    "# try to close station from previous run.\n",
    "try:\n",
    "    station.close_all_registered_instruments()\n",
    "except: pass\n",
    "\n",
    "# setup station\n",
    "awg = M3202A(\"AWG\", chassis = 1, slot = 4)\n",
    "\n",
    "station = qcodes.Station()\n",
    "station.add_component(awg)\n",
    "\n",
    "# setup output channels\n",
    "pxi = keysightSD1.SD_TriggerExternalSources.TRIGGER_PXI1\n",
    "trigger_mode = keysightSD1.SD_TriggerBehaviors.TRIGGER_FALL\n",
    "\n",
    "for ch in range(1,5):\n",
    "    awg.set_channel_offset(0.5, ch)\n",
    "    awg.set_channel_amplitude(0.5, ch)\n",
    "\n",
    "    awg.set_channel_wave_shape(keysightSD1.SD_Waveshapes.AOU_AWG, ch)\n",
    "    awg.awg_queue_config(ch, keysightSD1.SD_QueueMode.CYCLIC)\n",
    "    awg.awg_config_external_trigger(ch, pxi, trigger_mode)"
   ]
  },
  {
   "cell_type": "code",
   "execution_count": 5,
   "id": "a0ce29fa-4730-4181-9603-3e7b4a80ede3",
   "metadata": {},
   "outputs": [
    {
     "name": "stdout",
     "output_type": "stream",
     "text": [
      "4000\n",
      "<class 'int'>\n"
     ]
    }
   ],
   "source": [
    "# setup waveforms\n",
    "from waveforms import create_sine, get_prescaler\n",
    "\n",
    "sample_rate_MSps = 1000 # 1 GS/s\n",
    "\n",
    "sine = 0.6 * create_sine(500, 8, sample_rate_MSps)\n",
    "sine_awg = awg.upload_waveform(sine)\n",
    "\n",
    "delay = 0\n",
    "ext_trigger = keysightSD1.SD_TriggerModes.EXTTRIG\n",
    "auto_trigger = keysightSD1.SD_TriggerModes.AUTOTRIG\n",
    "cycles = 0\n",
    "prescaler = get_prescaler(sample_rate_MSps)\n",
    "awg.awg_queue_waveform(1, sine_awg, auto_trigger, delay, cycles, prescaler)\n",
    "\n",
    "awg.awg_start(1)"
   ]
  },
  {
   "cell_type": "code",
   "execution_count": 8,
   "id": "e558b2fe-7051-4cf3-ab89-70a132b912f2",
   "metadata": {},
   "outputs": [
    {
     "ename": "Exception",
     "evalue": "Error in call to module (-8018): SD1 error: Invalid value (set pxi_trigger 4001 to 0)",
     "output_type": "error",
     "traceback": [
      "\u001b[1;31m---------------------------------------------------------------------------\u001b[0m",
      "\u001b[1;31mException\u001b[0m                                 Traceback (most recent call last)",
      "\u001b[1;32m<ipython-input-8-345a32911762>\u001b[0m in \u001b[0;36m<module>\u001b[1;34m\u001b[0m\n\u001b[0;32m      1\u001b[0m \u001b[1;31m# trigger AWG\u001b[0m\u001b[1;33m\u001b[0m\u001b[1;33m\u001b[0m\u001b[1;33m\u001b[0m\u001b[0m\n\u001b[0;32m      2\u001b[0m \u001b[1;33m\u001b[0m\u001b[0m\n\u001b[1;32m----> 3\u001b[1;33m \u001b[0mawg\u001b[0m\u001b[1;33m.\u001b[0m\u001b[0mset_pxi_trigger\u001b[0m\u001b[1;33m(\u001b[0m\u001b[1;36m0\u001b[0m\u001b[1;33m,\u001b[0m \u001b[0mpxi\u001b[0m\u001b[1;33m)\u001b[0m \u001b[1;31m# trigger ON\u001b[0m\u001b[1;33m\u001b[0m\u001b[1;33m\u001b[0m\u001b[0m\n\u001b[0m\u001b[0;32m      4\u001b[0m \u001b[0mawg\u001b[0m\u001b[1;33m.\u001b[0m\u001b[0mset_pxi_trigger\u001b[0m\u001b[1;33m(\u001b[0m\u001b[1;36m1\u001b[0m\u001b[1;33m,\u001b[0m \u001b[0mpxi\u001b[0m\u001b[1;33m)\u001b[0m \u001b[1;31m# trigger OFF\u001b[0m\u001b[1;33m\u001b[0m\u001b[1;33m\u001b[0m\u001b[0m\n",
      "\u001b[1;32m~\\miniconda3\\envs\\qcodes\\lib\\site-packages\\qcodes_contrib_drivers\\drivers\\Keysight\\SD_common\\SD_Module.py\u001b[0m in \u001b[0;36mset_pxi_trigger\u001b[1;34m(self, value, pxi_trigger, verbose)\u001b[0m\n\u001b[0;32m    223\u001b[0m         \u001b[0mresult\u001b[0m \u001b[1;33m=\u001b[0m \u001b[0mself\u001b[0m\u001b[1;33m.\u001b[0m\u001b[0mSD_module\u001b[0m\u001b[1;33m.\u001b[0m\u001b[0mPXItriggerWrite\u001b[0m\u001b[1;33m(\u001b[0m\u001b[0mpxi_trigger\u001b[0m\u001b[1;33m,\u001b[0m \u001b[0mvalue\u001b[0m\u001b[1;33m)\u001b[0m\u001b[1;33m\u001b[0m\u001b[1;33m\u001b[0m\u001b[0m\n\u001b[0;32m    224\u001b[0m         \u001b[0mvalue_name\u001b[0m \u001b[1;33m=\u001b[0m \u001b[1;34mf'set pxi_trigger {pxi_trigger} to {value}'\u001b[0m\u001b[1;33m\u001b[0m\u001b[1;33m\u001b[0m\u001b[0m\n\u001b[1;32m--> 225\u001b[1;33m         \u001b[1;32mreturn\u001b[0m \u001b[0mresult_parser\u001b[0m\u001b[1;33m(\u001b[0m\u001b[0mresult\u001b[0m\u001b[1;33m,\u001b[0m \u001b[0mvalue_name\u001b[0m\u001b[1;33m,\u001b[0m \u001b[0mverbose\u001b[0m\u001b[1;33m)\u001b[0m\u001b[1;33m\u001b[0m\u001b[1;33m\u001b[0m\u001b[0m\n\u001b[0m\u001b[0;32m    226\u001b[0m \u001b[1;33m\u001b[0m\u001b[0m\n\u001b[0;32m    227\u001b[0m     \u001b[1;31m#\u001b[0m\u001b[1;33m\u001b[0m\u001b[1;33m\u001b[0m\u001b[1;33m\u001b[0m\u001b[0m\n",
      "\u001b[1;32m~\\miniconda3\\envs\\qcodes\\lib\\site-packages\\qcodes_contrib_drivers\\drivers\\Keysight\\SD_common\\SD_Module.py\u001b[0m in \u001b[0;36mresult_parser\u001b[1;34m(value, name, verbose)\u001b[0m\n\u001b[0;32m     35\u001b[0m         \u001b[0merror_message\u001b[0m \u001b[1;33m=\u001b[0m \u001b[0mkeysightSD1\u001b[0m\u001b[1;33m.\u001b[0m\u001b[0mSD_Error\u001b[0m\u001b[1;33m.\u001b[0m\u001b[0mgetErrorMessage\u001b[0m\u001b[1;33m(\u001b[0m\u001b[0mvalue\u001b[0m\u001b[1;33m)\u001b[0m\u001b[1;33m\u001b[0m\u001b[1;33m\u001b[0m\u001b[0m\n\u001b[0;32m     36\u001b[0m         \u001b[0mcall_message\u001b[0m \u001b[1;33m=\u001b[0m \u001b[1;34mf' ({name})'\u001b[0m \u001b[1;32mif\u001b[0m \u001b[0mname\u001b[0m \u001b[1;33m!=\u001b[0m \u001b[1;34m'result'\u001b[0m \u001b[1;32melse\u001b[0m \u001b[1;34m''\u001b[0m\u001b[1;33m\u001b[0m\u001b[1;33m\u001b[0m\u001b[0m\n\u001b[1;32m---> 37\u001b[1;33m         raise Exception(f'Error in call to module ({value}): '\n\u001b[0m\u001b[0;32m     38\u001b[0m                         f'{error_message}{call_message}')\n\u001b[0;32m     39\u001b[0m     \u001b[1;32melse\u001b[0m\u001b[1;33m:\u001b[0m\u001b[1;33m\u001b[0m\u001b[1;33m\u001b[0m\u001b[0m\n",
      "\u001b[1;31mException\u001b[0m: Error in call to module (-8018): SD1 error: Invalid value (set pxi_trigger 4001 to 0)"
     ]
    }
   ],
   "source": [
    "# trigger AWG\n",
    "\n",
    "awg.set_pxi_trigger(0, pxi) # trigger ON\n",
    "awg.set_pxi_trigger(1, pxi) # trigger OFF"
   ]
  }
 ],
 "metadata": {
  "kernelspec": {
   "display_name": "Python 3",
   "language": "python",
   "name": "python3"
  },
  "language_info": {
   "codemirror_mode": {
    "name": "ipython",
    "version": 3
   },
   "file_extension": ".py",
   "mimetype": "text/x-python",
   "name": "python",
   "nbconvert_exporter": "python",
   "pygments_lexer": "ipython3",
   "version": "3.8.10"
  }
 },
 "nbformat": 4,
 "nbformat_minor": 5
}
