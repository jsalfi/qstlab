{
 "cells": [
  {
   "cell_type": "code",
   "execution_count": 13,
   "id": "4cac5a16-489f-444c-b845-fb9abf4fac27",
   "metadata": {},
   "outputs": [
    {
     "name": "stdout",
     "output_type": "stream",
     "text": [
      "Activating auto-logging. Current session state plus future input saved.\n",
      "Filename       : C:\\Users\\noah\\.qcodes\\logs\\command_history.log\n",
      "Mode           : append\n",
      "Output logging : True\n",
      "Raw input log  : False\n",
      "Timestamping   : True\n",
      "State          : active\n"
     ]
    },
    {
     "name": "stderr",
     "output_type": "stream",
     "text": [
      "2021-05-21 13:56:18,843 ¦ qcodes.instrument.base ¦ WARNING ¦ base ¦ snapshot_base ¦ 215 ¦ [AWG(M3202A)] Snapshot: Could not update parameter: status\n"
     ]
    },
    {
     "name": "stdout",
     "output_type": "stream",
     "text": [
      "Qcodes Logfile : C:\\Users\\noah\\.qcodes\\logs\\210521-20828-qcodes.log\n"
     ]
    }
   ],
   "source": [
    "import logging\n",
    "\n",
    "import numpy as np\n",
    "import matplotlib.pyplot as plt\n",
    "\n",
    "try:\n",
    "    import keysightSD1\n",
    "except:\n",
    "    import sys\n",
    "    sys.path.append(r\"C:\\Program Files (x86)\\Keysight\\SD1\\Libraries\\Python\")\n",
    "    import keysightSD1\n",
    "    \n",
    "import qcodes\n",
    "from qcodes_contrib_drivers.drivers.Keysight.M3202A import M3202A\n",
    "\n",
    "import qcodes.logger as logger\n",
    "from qcodes.logger import start_all_logging\n",
    "\n",
    "start_all_logging()\n",
    "# logger.get_file_handler().setLevel(logging.DEBUG)\n",
    "\n",
    "# try to close station from previous run.\n",
    "try:\n",
    "    station.close_all_registered_instruments()\n",
    "except: pass\n",
    "\n",
    "# setup station\n",
    "awg = M3202A(\"AWG\", chassis = 1, slot = 4)\n",
    "\n",
    "station = qcodes.Station()\n",
    "station.add_component(awg)\n",
    "\n",
    "# setup output channels\n",
    "pxi = keysightSD1.SD_TriggerExternalSources.TRIGGER_PXI1\n",
    "trigger_mode = keysightSD1.SD_TriggerBehaviors.TRIGGER_FALL\n",
    "\n",
    "for ch in range(1,5):\n",
    "    awg.set_channel_offset(0.0, ch)\n",
    "    awg.set_channel_amplitude(0.5, ch)\n",
    "\n",
    "    awg.set_channel_wave_shape(keysightSD1.SD_Waveshapes.AOU_AWG, ch)\n",
    "    awg.awg_queue_config(ch, keysightSD1.SD_QueueMode.CYCLIC)\n",
    "    awg.awg_config_external_trigger(ch, pxi, trigger_mode)"
   ]
  },
  {
   "cell_type": "code",
   "execution_count": 14,
   "id": "a0ce29fa-4730-4181-9603-3e7b4a80ede3",
   "metadata": {},
   "outputs": [
    {
     "name": "stderr",
     "output_type": "stream",
     "text": [
      "2021-05-21 13:56:22,854 ¦ root ¦ WARNING ¦ SD_AWG_Async ¦ __del__ ¦ 152 ¦ WaveformReference was not released (AWG:0). Automatic release in destructor.\n"
     ]
    }
   ],
   "source": [
    "# setup waveforms\n",
    "from waveforms import create_sine, get_prescaler\n",
    "\n",
    "sample_rate_MSps = 1000 # 1 GS/s\n",
    "\n",
    "sine = 0.5 * create_sine(500, 8, sample_rate_MSps)\n",
    "sine_awg = awg.upload_waveform(sine)\n",
    "\n",
    "delay = 0\n",
    "ext_trigger = keysightSD1.SD_TriggerModes.EXTTRIG\n",
    "auto_trigger = keysightSD1.SD_TriggerModes.AUTOTRIG\n",
    "cycles = 0\n",
    "prescaler = get_prescaler(sample_rate_MSps)\n",
    "awg.awg_queue_waveform(1, sine_awg, auto_trigger, delay, cycles, prescaler)\n",
    "\n",
    "awg.awg_start(1)"
   ]
  },
  {
   "cell_type": "code",
   "execution_count": null,
   "id": "e558b2fe-7051-4cf3-ab89-70a132b912f2",
   "metadata": {},
   "outputs": [],
   "source": [
    "# trigger AWG\n",
    "\n",
    "# awg.set_pxi_trigger(0, pxi) # trigger ON\n",
    "# awg.set_pxi_trigger(1, pxi) # trigger OFF"
   ]
  }
 ],
 "metadata": {
  "kernelspec": {
   "display_name": "Python 3",
   "language": "python",
   "name": "python3"
  },
  "language_info": {
   "codemirror_mode": {
    "name": "ipython",
    "version": 3
   },
   "file_extension": ".py",
   "mimetype": "text/x-python",
   "name": "python",
   "nbconvert_exporter": "python",
   "pygments_lexer": "ipython3",
   "version": "3.8.10"
  }
 },
 "nbformat": 4,
 "nbformat_minor": 5
}
